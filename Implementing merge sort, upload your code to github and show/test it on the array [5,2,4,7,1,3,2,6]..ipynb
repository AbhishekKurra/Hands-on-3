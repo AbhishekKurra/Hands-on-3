{
  "nbformat": 4,
  "nbformat_minor": 0,
  "metadata": {
    "colab": {
      "provenance": [],
      "authorship_tag": "ABX9TyNuLBVOPHZIpEg1hLQ8CfGC",
      "include_colab_link": true
    },
    "kernelspec": {
      "name": "python3",
      "display_name": "Python 3"
    },
    "language_info": {
      "name": "python"
    }
  },
  "cells": [
    {
      "cell_type": "markdown",
      "metadata": {
        "id": "view-in-github",
        "colab_type": "text"
      },
      "source": [
        "<a href=\"https://colab.research.google.com/github/AbhishekKurra/Hands-on-3/blob/main/Implementing%20merge%20sort%2C%20upload%20your%20code%20to%20github%20and%20show/test%20it%20on%20the%20array%20%5B5%2C2%2C4%2C7%2C1%2C3%2C2%2C6%5D..ipynb\" target=\"_parent\"><img src=\"https://colab.research.google.com/assets/colab-badge.svg\" alt=\"Open In Colab\"/></a>"
      ]
    },
    {
      "cell_type": "code",
      "execution_count": 1,
      "metadata": {
        "colab": {
          "base_uri": "https://localhost:8080/"
        },
        "id": "4VlrEjmolK4m",
        "outputId": "9f1f7d72-97c4-4a4e-92cf-5fcae18facef"
      },
      "outputs": [
        {
          "output_type": "stream",
          "name": "stdout",
          "text": [
            "Sorted array: [1, 2, 2, 3, 4, 5, 6, 7]\n"
          ]
        }
      ],
      "source": [
        "def merge_sort(arr):\n",
        "    if len(arr) <= 1:\n",
        "        return arr\n",
        "\n",
        "    mid = len(arr) // 2\n",
        "    start = merge_sort(arr[:mid])\n",
        "    end = merge_sort(arr[mid:])\n",
        "\n",
        "    return merge(start, end)\n",
        "\n",
        "def merge(start, end):\n",
        "    merged = []\n",
        "    i = j = 0\n",
        "\n",
        "    while i < len(start) and j < len(end):\n",
        "        if start[i] <= end[j]:\n",
        "            merged.append(start[i])\n",
        "            i += 1\n",
        "        else:\n",
        "            merged.append(end[j])\n",
        "            j += 1\n",
        "\n",
        "    merged.extend(start[i:])\n",
        "    merged.extend(end[j:])\n",
        "    return merged\n",
        "\n",
        "\n",
        "arr = [5, 2, 4, 7, 1, 3, 2, 6]\n",
        "sorted_arr = merge_sort(arr)\n",
        "print(\"Sorted array:\", sorted_arr)\n"
      ]
    }
  ]
}